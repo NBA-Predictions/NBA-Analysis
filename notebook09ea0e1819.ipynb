{
 "cells": [
  {
   "cell_type": "code",
   "execution_count": 1,
   "id": "fa8985e5",
   "metadata": {
    "_cell_guid": "b1076dfc-b9ad-4769-8c92-a6c4dae69d19",
    "_uuid": "8f2839f25d086af736a60e9eeb907d3b93b6e0e5",
    "execution": {
     "iopub.execute_input": "2024-02-17T05:00:35.757791Z",
     "iopub.status.busy": "2024-02-17T05:00:35.757312Z",
     "iopub.status.idle": "2024-02-17T05:00:36.368504Z",
     "shell.execute_reply": "2024-02-17T05:00:36.367892Z"
    },
    "papermill": {
     "duration": 0.616497,
     "end_time": "2024-02-17T05:00:36.370150",
     "exception": false,
     "start_time": "2024-02-17T05:00:35.753653",
     "status": "completed"
    },
    "tags": []
   },
   "outputs": [
    {
     "name": "stdout",
     "output_type": "stream",
     "text": [
      "/kaggle/input/nba-games/players.csv\n",
      "/kaggle/input/nba-games/teams.csv\n",
      "/kaggle/input/nba-games/ranking.csv\n",
      "/kaggle/input/nba-games/games_details.csv\n",
      "/kaggle/input/nba-games/games.csv\n"
     ]
    }
   ],
   "source": [
    "# This Python 3 environment comes with many helpful analytics libraries installed\n",
    "# It is defined by the kaggle/python Docker image: https://github.com/kaggle/docker-python\n",
    "# For example, here's several helpful packages to load\n",
    "\n",
    "import numpy as np # linear algebra\n",
    "import pandas as pd # data processing, CSV file I/O (e.g. pd.read_csv)\n",
    "\n",
    "# Input data files are available in the read-only \"../input/\" directory\n",
    "# For example, running this (by clicking run or pressing Shift+Enter) will list all files under the input directory\n",
    "\n",
    "import os\n",
    "for dirname, _, filenames in os.walk('/kaggle/input'):\n",
    "    for filename in filenames:\n",
    "        print(os.path.join(dirname, filename))\n",
    "\n",
    "# You can write up to 20GB to the current directory (/kaggle/working/) that gets preserved as output when you create a version using \"Save & Run All\" \n",
    "# You can also write temporary files to /kaggle/temp/, but they won't be saved outside of the current session"
   ]
  },
  {
   "cell_type": "markdown",
   "id": "9890f752",
   "metadata": {
    "papermill": {
     "duration": 0.001663,
     "end_time": "2024-02-17T05:00:36.374043",
     "exception": false,
     "start_time": "2024-02-17T05:00:36.372380",
     "status": "completed"
    },
    "tags": []
   },
   "source": [
    "## Initial analysis of relevant data\n",
    "\n",
    "Before we begin to code our ML model we must first look into what data is not only relevant to what it is we are trying to accomplish but if the data is related to the desired outcome. In this particular case we can define our desired outcome as;\n",
    "\n",
    "    -Predict the outcome of NBA games\n",
    "\n",
    "Though vague it is important to have an understanding of the ultimate goal. With that in mind we must determine what is considered relevant to being able to make these predictions. For the purposes of this analysis we will look at what data appears to relate to winning a game to have a more concrete idea of what features to include in the model.\n",
    "\n",
    "First we will load the data into a pandas dataframes and take a look at the data, more specifically we will first look into the games.csv for our initial dive into the data. This is because the games.csv has final game data and we can begin with simple probing into the data itself. Later we will look into as much of the data as we can."
   ]
  },
  {
   "cell_type": "code",
   "execution_count": 2,
   "id": "a01768b9",
   "metadata": {
    "execution": {
     "iopub.execute_input": "2024-02-17T05:00:36.379122Z",
     "iopub.status.busy": "2024-02-17T05:00:36.378458Z",
     "iopub.status.idle": "2024-02-17T05:00:39.929904Z",
     "shell.execute_reply": "2024-02-17T05:00:39.928998Z"
    },
    "papermill": {
     "duration": 3.55627,
     "end_time": "2024-02-17T05:00:39.932097",
     "exception": false,
     "start_time": "2024-02-17T05:00:36.375827",
     "status": "completed"
    },
    "tags": []
   },
   "outputs": [
    {
     "name": "stderr",
     "output_type": "stream",
     "text": [
      "/tmp/ipykernel_18/3956019479.py:1: DtypeWarning: Columns (6) have mixed types. Specify dtype option on import or set low_memory=False.\n",
      "  gameData = pd.read_csv(\"/kaggle/input/nba-games/games_details.csv\")\n"
     ]
    },
    {
     "data": {
      "text/html": [
       "<div>\n",
       "<style scoped>\n",
       "    .dataframe tbody tr th:only-of-type {\n",
       "        vertical-align: middle;\n",
       "    }\n",
       "\n",
       "    .dataframe tbody tr th {\n",
       "        vertical-align: top;\n",
       "    }\n",
       "\n",
       "    .dataframe thead th {\n",
       "        text-align: right;\n",
       "    }\n",
       "</style>\n",
       "<table border=\"1\" class=\"dataframe\">\n",
       "  <thead>\n",
       "    <tr style=\"text-align: right;\">\n",
       "      <th></th>\n",
       "      <th>GAME_DATE_EST</th>\n",
       "      <th>GAME_ID</th>\n",
       "      <th>GAME_STATUS_TEXT</th>\n",
       "      <th>HOME_TEAM_ID</th>\n",
       "      <th>VISITOR_TEAM_ID</th>\n",
       "      <th>SEASON</th>\n",
       "      <th>TEAM_ID_home</th>\n",
       "      <th>PTS_home</th>\n",
       "      <th>FG_PCT_home</th>\n",
       "      <th>FT_PCT_home</th>\n",
       "      <th>...</th>\n",
       "      <th>AST_home</th>\n",
       "      <th>REB_home</th>\n",
       "      <th>TEAM_ID_away</th>\n",
       "      <th>PTS_away</th>\n",
       "      <th>FG_PCT_away</th>\n",
       "      <th>FT_PCT_away</th>\n",
       "      <th>FG3_PCT_away</th>\n",
       "      <th>AST_away</th>\n",
       "      <th>REB_away</th>\n",
       "      <th>HOME_TEAM_WINS</th>\n",
       "    </tr>\n",
       "  </thead>\n",
       "  <tbody>\n",
       "    <tr>\n",
       "      <th>0</th>\n",
       "      <td>2022-12-22</td>\n",
       "      <td>22200477</td>\n",
       "      <td>Final</td>\n",
       "      <td>1610612740</td>\n",
       "      <td>1610612759</td>\n",
       "      <td>2022</td>\n",
       "      <td>1610612740</td>\n",
       "      <td>126.0</td>\n",
       "      <td>0.484</td>\n",
       "      <td>0.926</td>\n",
       "      <td>...</td>\n",
       "      <td>25.0</td>\n",
       "      <td>46.0</td>\n",
       "      <td>1610612759</td>\n",
       "      <td>117.0</td>\n",
       "      <td>0.478</td>\n",
       "      <td>0.815</td>\n",
       "      <td>0.321</td>\n",
       "      <td>23.0</td>\n",
       "      <td>44.0</td>\n",
       "      <td>1</td>\n",
       "    </tr>\n",
       "    <tr>\n",
       "      <th>1</th>\n",
       "      <td>2022-12-22</td>\n",
       "      <td>22200478</td>\n",
       "      <td>Final</td>\n",
       "      <td>1610612762</td>\n",
       "      <td>1610612764</td>\n",
       "      <td>2022</td>\n",
       "      <td>1610612762</td>\n",
       "      <td>120.0</td>\n",
       "      <td>0.488</td>\n",
       "      <td>0.952</td>\n",
       "      <td>...</td>\n",
       "      <td>16.0</td>\n",
       "      <td>40.0</td>\n",
       "      <td>1610612764</td>\n",
       "      <td>112.0</td>\n",
       "      <td>0.561</td>\n",
       "      <td>0.765</td>\n",
       "      <td>0.333</td>\n",
       "      <td>20.0</td>\n",
       "      <td>37.0</td>\n",
       "      <td>1</td>\n",
       "    </tr>\n",
       "    <tr>\n",
       "      <th>2</th>\n",
       "      <td>2022-12-21</td>\n",
       "      <td>22200466</td>\n",
       "      <td>Final</td>\n",
       "      <td>1610612739</td>\n",
       "      <td>1610612749</td>\n",
       "      <td>2022</td>\n",
       "      <td>1610612739</td>\n",
       "      <td>114.0</td>\n",
       "      <td>0.482</td>\n",
       "      <td>0.786</td>\n",
       "      <td>...</td>\n",
       "      <td>22.0</td>\n",
       "      <td>37.0</td>\n",
       "      <td>1610612749</td>\n",
       "      <td>106.0</td>\n",
       "      <td>0.470</td>\n",
       "      <td>0.682</td>\n",
       "      <td>0.433</td>\n",
       "      <td>20.0</td>\n",
       "      <td>46.0</td>\n",
       "      <td>1</td>\n",
       "    </tr>\n",
       "    <tr>\n",
       "      <th>3</th>\n",
       "      <td>2022-12-21</td>\n",
       "      <td>22200467</td>\n",
       "      <td>Final</td>\n",
       "      <td>1610612755</td>\n",
       "      <td>1610612765</td>\n",
       "      <td>2022</td>\n",
       "      <td>1610612755</td>\n",
       "      <td>113.0</td>\n",
       "      <td>0.441</td>\n",
       "      <td>0.909</td>\n",
       "      <td>...</td>\n",
       "      <td>27.0</td>\n",
       "      <td>49.0</td>\n",
       "      <td>1610612765</td>\n",
       "      <td>93.0</td>\n",
       "      <td>0.392</td>\n",
       "      <td>0.735</td>\n",
       "      <td>0.261</td>\n",
       "      <td>15.0</td>\n",
       "      <td>46.0</td>\n",
       "      <td>1</td>\n",
       "    </tr>\n",
       "    <tr>\n",
       "      <th>4</th>\n",
       "      <td>2022-12-21</td>\n",
       "      <td>22200468</td>\n",
       "      <td>Final</td>\n",
       "      <td>1610612737</td>\n",
       "      <td>1610612741</td>\n",
       "      <td>2022</td>\n",
       "      <td>1610612737</td>\n",
       "      <td>108.0</td>\n",
       "      <td>0.429</td>\n",
       "      <td>1.000</td>\n",
       "      <td>...</td>\n",
       "      <td>22.0</td>\n",
       "      <td>47.0</td>\n",
       "      <td>1610612741</td>\n",
       "      <td>110.0</td>\n",
       "      <td>0.500</td>\n",
       "      <td>0.773</td>\n",
       "      <td>0.292</td>\n",
       "      <td>20.0</td>\n",
       "      <td>47.0</td>\n",
       "      <td>0</td>\n",
       "    </tr>\n",
       "  </tbody>\n",
       "</table>\n",
       "<p>5 rows × 21 columns</p>\n",
       "</div>"
      ],
      "text/plain": [
       "  GAME_DATE_EST   GAME_ID GAME_STATUS_TEXT  HOME_TEAM_ID  VISITOR_TEAM_ID  \\\n",
       "0    2022-12-22  22200477            Final    1610612740       1610612759   \n",
       "1    2022-12-22  22200478            Final    1610612762       1610612764   \n",
       "2    2022-12-21  22200466            Final    1610612739       1610612749   \n",
       "3    2022-12-21  22200467            Final    1610612755       1610612765   \n",
       "4    2022-12-21  22200468            Final    1610612737       1610612741   \n",
       "\n",
       "   SEASON  TEAM_ID_home  PTS_home  FG_PCT_home  FT_PCT_home  ...  AST_home  \\\n",
       "0    2022    1610612740     126.0        0.484        0.926  ...      25.0   \n",
       "1    2022    1610612762     120.0        0.488        0.952  ...      16.0   \n",
       "2    2022    1610612739     114.0        0.482        0.786  ...      22.0   \n",
       "3    2022    1610612755     113.0        0.441        0.909  ...      27.0   \n",
       "4    2022    1610612737     108.0        0.429        1.000  ...      22.0   \n",
       "\n",
       "   REB_home  TEAM_ID_away  PTS_away  FG_PCT_away  FT_PCT_away  FG3_PCT_away  \\\n",
       "0      46.0    1610612759     117.0        0.478        0.815         0.321   \n",
       "1      40.0    1610612764     112.0        0.561        0.765         0.333   \n",
       "2      37.0    1610612749     106.0        0.470        0.682         0.433   \n",
       "3      49.0    1610612765      93.0        0.392        0.735         0.261   \n",
       "4      47.0    1610612741     110.0        0.500        0.773         0.292   \n",
       "\n",
       "   AST_away  REB_away  HOME_TEAM_WINS  \n",
       "0      23.0      44.0               1  \n",
       "1      20.0      37.0               1  \n",
       "2      20.0      46.0               1  \n",
       "3      15.0      46.0               1  \n",
       "4      20.0      47.0               0  \n",
       "\n",
       "[5 rows x 21 columns]"
      ]
     },
     "execution_count": 2,
     "metadata": {},
     "output_type": "execute_result"
    }
   ],
   "source": [
    "gameData = pd.read_csv(\"/kaggle/input/nba-games/games_details.csv\")\n",
    "games = pd.read_csv(\"/kaggle/input/nba-games/games.csv\")\n",
    "players = pd.read_csv(\"/kaggle/input/nba-games/players.csv\")\n",
    "teams = pd.read_csv(\"/kaggle/input/nba-games/teams.csv\")\n",
    "rankings = pd.read_csv(\"/kaggle/input/nba-games/ranking.csv\")\n",
    "#initial dataframes for all .csv files\n",
    "#For now the only dataframe we will look into is games\n",
    "games.head()"
   ]
  },
  {
   "cell_type": "markdown",
   "id": "0166f8c9",
   "metadata": {
    "papermill": {
     "duration": 0.002031,
     "end_time": "2024-02-17T05:00:39.936564",
     "exception": false,
     "start_time": "2024-02-17T05:00:39.934533",
     "status": "completed"
    },
    "tags": []
   },
   "source": [
    "# Home Team advantage\n",
    "\n",
    "Generally the team who is playing the home game is considered to have the advantage. We will do a small dive into this and see how true this claim is by looking at the data."
   ]
  },
  {
   "cell_type": "code",
   "execution_count": 3,
   "id": "fc4af44e",
   "metadata": {
    "execution": {
     "iopub.execute_input": "2024-02-17T05:00:39.942146Z",
     "iopub.status.busy": "2024-02-17T05:00:39.941880Z",
     "iopub.status.idle": "2024-02-17T05:00:40.204569Z",
     "shell.execute_reply": "2024-02-17T05:00:40.203685Z"
    },
    "papermill": {
     "duration": 0.267439,
     "end_time": "2024-02-17T05:00:40.206159",
     "exception": false,
     "start_time": "2024-02-17T05:00:39.938720",
     "status": "completed"
    },
    "tags": []
   },
   "outputs": [
    {
     "name": "stderr",
     "output_type": "stream",
     "text": [
      "/tmp/ipykernel_18/934583140.py:4: FutureWarning: When grouping with a length-1 list-like, you will need to pass a length-1 tuple to get_group in a future version of pandas. Pass `(name,)` instead of `name` to silence this warning.\n",
      "  home_wins = home_team_group.get_group(1)\n",
      "/tmp/ipykernel_18/934583140.py:5: FutureWarning: When grouping with a length-1 list-like, you will need to pass a length-1 tuple to get_group in a future version of pandas. Pass `(name,)` instead of `name` to silence this warning.\n",
      "  home_loses = home_team_group.get_group(0)\n"
     ]
    },
    {
     "name": "stdout",
     "output_type": "stream",
     "text": [
      "Home team win percentage: 58.70% \n",
      "Away team win percentage: 41.30%\n"
     ]
    },
    {
     "data": {
      "image/png": "[encoded data removed]",
      "text/plain": [
       "<Figure size 640x480 with 1 Axes>"
      ]
     },
     "metadata": {},
     "output_type": "display_data"
    }
   ],
   "source": [
    "import matplotlib.pyplot as plt\n",
    "\n",
    "home_team_group = games.groupby([\"HOME_TEAM_WINS\"])\n",
    "home_wins = home_team_group.get_group(1)\n",
    "home_loses = home_team_group.get_group(0)\n",
    "\n",
    "home_team_wins = home_wins[\"HOME_TEAM_WINS\"].value_counts()\n",
    "away_team_wins = home_loses[\"HOME_TEAM_WINS\"].value_counts()\n",
    "\n",
    "plt.bar(0.5, home_team_wins, width = .75,color = '#0077b6',label = 'Home Team Wins')\n",
    "plt.bar(1.25, away_team_wins, width = .75,color = '#fb8500',label = 'Away Team Wins')\n",
    "\n",
    "plt.ylabel('Number of Wins')\n",
    "plt.xticks(color = 'w')\n",
    "plt.title('Home wins vs Away wins')\n",
    "plt.legend()\n",
    "\n",
    "percentage_for_home = games['HOME_TEAM_WINS'].value_counts()/len(games) * 100\n",
    "print(f'Home team win percentage: {percentage_for_home[1]:.2f}% \\nAway team win percentage: {percentage_for_home[0]:.2f}%')"
   ]
  },
  {
   "cell_type": "markdown",
   "id": "b2ca9d1d",
   "metadata": {
    "papermill": {
     "duration": 0.002431,
     "end_time": "2024-02-17T05:00:40.211358",
     "exception": false,
     "start_time": "2024-02-17T05:00:40.208927",
     "status": "completed"
    },
    "tags": []
   },
   "source": []
  }
 ],
 "metadata": {
  "kaggle": {
   "accelerator": "none",
   "dataSources": [
    {
     "datasetId": 458874,
     "sourceId": 4761991,
     "sourceType": "datasetVersion"
    }
   ],
   "dockerImageVersionId": 30646,
   "isGpuEnabled": false,
   "isInternetEnabled": true,
   "language": "python",
   "sourceType": "notebook"
  },
  "kernelspec": {
   "display_name": "Python 3",
   "language": "python",
   "name": "python3"
  },
  "language_info": {
   "codemirror_mode": {
    "name": "ipython",
    "version": 3
   },
   "file_extension": ".py",
   "mimetype": "text/x-python",
   "name": "python",
   "nbconvert_exporter": "python",
   "pygments_lexer": "ipython3",
   "version": "3.10.13"
  },
  "papermill": {
   "default_parameters": {},
   "duration": 6.732482,
   "end_time": "2024-02-17T05:00:40.529594",
   "environment_variables": {},
   "exception": null,
   "input_path": "__notebook__.ipynb",
   "output_path": "__notebook__.ipynb",
   "parameters": {},
   "start_time": "2024-02-17T05:00:33.797112",
   "version": "2.5.0"
  }
 },
 "nbformat": 4,
 "nbformat_minor": 5
}
